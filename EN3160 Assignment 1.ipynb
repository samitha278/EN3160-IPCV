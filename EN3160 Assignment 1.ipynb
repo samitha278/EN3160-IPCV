{
 "cells": [
  {
   "cell_type": "code",
   "execution_count": null,
   "id": "0",
   "metadata": {},
   "outputs": [],
   "source": [
    "import numpy as np\n",
    "import matplotlib.pyplot as plt\n",
    "import cv2 as cv"
   ]
  },
  {
   "cell_type": "code",
   "execution_count": null,
   "id": "1",
   "metadata": {},
   "outputs": [],
   "source": [
    "im = cv.imread(\"a1images/emma.jpg\")\n",
    "\n",
    "fig, ax = plt.subplots(1,1,figsize = (3,4))\n",
    "ax.imshow(cv.cvtColor(im,cv.COLOR_BGR2RGB))\n",
    "ax.xaxis.set_ticks_position('top')\n",
    "plt.show()\n"
   ]
  },
  {
   "cell_type": "code",
   "execution_count": null,
   "id": "2",
   "metadata": {},
   "outputs": [],
   "source": [
    "im = plt.imread(\"a1images/emma.jpg\")\n",
    "fig ,ax = plt.subplots(1,1, figsize = (3,4))\n",
    "\n",
    "ax.imshow(im)\n",
    "ax.xaxis.set_ticks_position('top')\n",
    "plt.show()"
   ]
  },
  {
   "cell_type": "code",
   "execution_count": null,
   "id": "3",
   "metadata": {},
   "outputs": [],
   "source": [
    "im = plt.imread(\"a1images/emma.jpg\")\n",
    "fig ,ax = plt.subplots(1,4, figsize = (12,16))\n",
    "\n",
    "ax[0].imshow(im) \n",
    "ax[1].imshow(im[...,0],cmap='Reds')    #red plane only\n",
    "ax[2].imshow(im[...,1],cmap='Greens')  #green plane only\n",
    "ax[3].imshow(im[...,2],cmap='Blues')   #blue plane only\n",
    "\n",
    "#ax.xaxis.set_ticks_position('top')\n",
    "plt.show()"
   ]
  },
  {
   "cell_type": "code",
   "execution_count": null,
   "id": "4",
   "metadata": {},
   "outputs": [],
   "source": [
    "im.shape"
   ]
  },
  {
   "cell_type": "code",
   "execution_count": null,
   "id": "5",
   "metadata": {},
   "outputs": [],
   "source": [
    "rows , cls , chas = im.shape   #(810, 720, 3)\n",
    "\n",
    "gray_im = np.zeros((rows,cls))\n",
    "\n",
    "for i in range(rows):\n",
    "    for j in range(cls):\n",
    "        val = sum(im[i][j])/3\n",
    "        gray_im[i][j] = val\n",
    "\n",
    "fig ,ax = plt.subplots(1,1, figsize = (3,4))\n",
    "\n",
    "ax.imshow(gray_im)\n",
    "plt.show()"
   ]
  },
  {
   "cell_type": "code",
   "execution_count": null,
   "id": "6",
   "metadata": {},
   "outputs": [],
   "source": [
    "gray_im = np.dot(im,[0.2989, 0.5870, 0.1140])\n",
    "\n",
    "fig ,ax = plt.subplots(1,1, figsize = (3,4))\n",
    "ax.imshow(gray_im,cmap = 'gray')\n",
    "ax.xaxis.set_ticks_position('top')\n",
    "plt.show()"
   ]
  },
  {
   "cell_type": "code",
   "execution_count": null,
   "id": "7",
   "metadata": {},
   "outputs": [],
   "source": [
    "def f(x):\n",
    "    return np.where(\n",
    "        (x >= 50) & (x < 150),\n",
    "        1.55 * x + 22.5,\n",
    "        x\n",
    "    ).astype(np.uint8)\n",
    "\n",
    "\n",
    "    \n",
    "new_im_1 = f(gray_im)\n",
    "\n",
    "fig ,ax = plt.subplots(1,1, figsize = (3,4))\n",
    "\n",
    "ax.imshow(new_im_1,cmap = 'gray')\n",
    "ax.xaxis.set_ticks_position('top')\n",
    "plt.show()"
   ]
  },
  {
   "cell_type": "code",
   "execution_count": null,
   "id": "8",
   "metadata": {},
   "outputs": [],
   "source": [
    "im = cv.imread('a1images/emma.jpg')\n",
    "gray_im = cv.cvtColor(im,cv.COLOR_BGR2GRAY)\n",
    "\n",
    "\"\"\"\n",
    "cv.imshow(\" \" , gray_im)\n",
    "cv.waitKey(0)\n",
    "cv.destroyAllWindows()\n",
    "\"\"\"\n"
   ]
  },
  {
   "cell_type": "code",
   "execution_count": null,
   "id": "9",
   "metadata": {},
   "outputs": [],
   "source": [
    "#with mask and lut\n",
    "\n",
    "r = np.arange(256)\n",
    "s = np.zeros(256)\n",
    "\n",
    "#function\n",
    "slope = (255-100)/(150-50)\n",
    "c = 100 - slope * 50\n",
    "\n",
    "mask = (r>=50) & (r<150)\n",
    "s[mask] = slope * r[mask] + c\n",
    "\n",
    "\n",
    "m1 = r<50\n",
    "s[m1] = r[m1]\n",
    "\n",
    "m2 = r>=150\n",
    "s[m2] = r[m2]\n",
    "\n",
    "lut = np.clip(np.round(s),0,255).astype(np.uint8)\n",
    "\n",
    "transformed = cv.LUT(gray_im,lut)\n"
   ]
  },
  {
   "cell_type": "code",
   "execution_count": null,
   "id": "10",
   "metadata": {},
   "outputs": [],
   "source": [
    "plt.figure(figsize=(10,5))\n",
    "\n",
    "plt.subplot(1,3,1)\n",
    "plt.imshow(gray_im, cmap='gray')\n",
    "plt.title('Original')\n",
    "plt.axis('off')\n",
    "\n",
    "plt.subplot(1,3,2)\n",
    "plt.plot(lut)\n",
    "plt.title('Intensity transform (LUT)')\n",
    "plt.xlabel('Input intensity')\n",
    "plt.ylabel('Output intensity')\n",
    "plt.grid(True)\n",
    "\n",
    "plt.subplot(1,3,3)\n",
    "plt.imshow(transformed, cmap='gray')\n",
    "plt.title('Transformed')\n",
    "plt.axis('off')\n",
    "\n",
    "plt.tight_layout()\n",
    "plt.show()\n",
    "\n"
   ]
  },
  {
   "cell_type": "code",
   "execution_count": null,
   "id": "11",
   "metadata": {},
   "outputs": [],
   "source": [
    "%%writefile .gitignore\n",
    "__pycache__/\n",
    "*.pyc\n",
    ".ipynb_checkpoints/\n",
    ".env\n",
    "env/\n",
    "venv/\n",
    ".venv/\n",
    "data/\n",
    "*.csv\n",
    "*.h5\n",
    ".DS_Store\n",
    "Thumbs.db\n"
   ]
  },
  {
   "cell_type": "code",
   "execution_count": null,
   "id": "12",
   "metadata": {},
   "outputs": [],
   "source": [
    "!git config --global user.name \"samitha278\"\n",
    "!git config --global user.email \"samithasahanssb@gmail.com\""
   ]
  },
  {
   "cell_type": "code",
   "execution_count": null,
   "id": "13",
   "metadata": {},
   "outputs": [],
   "source": [
    "!git init\n",
    "!git branch -M main"
   ]
  },
  {
   "cell_type": "code",
   "execution_count": null,
   "id": "14",
   "metadata": {},
   "outputs": [],
   "source": [
    "!pip install --quiet nbstripout jupytext\n",
    "!nbstripout --install\n"
   ]
  },
  {
   "cell_type": "code",
   "execution_count": null,
   "id": "15",
   "metadata": {},
   "outputs": [],
   "source": [
    "REPO_URL = \"https://github.com/samitha278/EN3160-IPCV.git\"  # <<-- replace this\n",
    "!git remote add origin {REPO_URL}\n",
    "!git add -A\n",
    "!git commit -m \"Initial commit from notebook\"\n",
    "!git push -u origin main"
   ]
  },
  {
   "cell_type": "code",
   "execution_count": null,
   "id": "16",
   "metadata": {},
   "outputs": [],
   "source": [
    "!git remote add origin https://github.com/samitha278/EN3160-IPCV.git\n",
    "!git push -u origin main\n"
   ]
  },
  {
   "cell_type": "code",
   "execution_count": null,
   "id": "17",
   "metadata": {},
   "outputs": [],
   "source": []
  }
 ],
 "metadata": {
  "kernelspec": {
   "display_name": "Python (image-proc)",
   "language": "python",
   "name": "image-proc"
  },
  "language_info": {
   "codemirror_mode": {
    "name": "ipython",
    "version": 3
   },
   "file_extension": ".py",
   "mimetype": "text/x-python",
   "name": "python",
   "nbconvert_exporter": "python",
   "pygments_lexer": "ipython3",
   "version": "3.11.13"
  }
 },
 "nbformat": 4,
 "nbformat_minor": 5
}
